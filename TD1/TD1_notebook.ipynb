{
 "cells": [
  {
   "cell_type": "markdown",
   "metadata": {},
   "source": [
    "## Optimization TD1 - Notebook"
   ]
  },
  {
   "cell_type": "code",
   "execution_count": null,
   "metadata": {},
   "outputs": [],
   "source": [
    "import numpy as np\n",
    "import matplotlib.pyplot as plt\n",
    "from div import div\n",
    "from grad import grad"
   ]
  },
  {
   "cell_type": "code",
   "execution_count": null,
   "metadata": {},
   "outputs": [],
   "source": [
    "def load_image(filename):\n",
    "    return np.loadtxt(filename)\n",
    "\n",
    "def display_image(image, title=\"Image\"):\n",
    "    plt.figure()\n",
    "    plt.imshow(image, cmap='gray')\n",
    "    plt.title(title)\n",
    "    plt.savefig(f\"outputs/{title}.png\")\n",
    "    plt.show()"
   ]
  },
  {
   "cell_type": "code",
   "execution_count": null,
   "metadata": {},
   "outputs": [],
   "source": [
    "# Question 1\n",
    "\n",
    "# load image\n",
    "z = load_image(\"marie_degraded\")\n",
    "\n",
    "# image size\n",
    "K, L = z.shape\n",
    "print(f\"The image size is {K} x {L}\")\n",
    "\n",
    "# display image\n",
    "display_image(z, \"Marie Degraded\")"
   ]
  },
  {
   "cell_type": "code",
   "execution_count": null,
   "metadata": {},
   "outputs": [],
   "source": [
    "# Question 2\n",
    "\n",
    "# indices corresponding to tearing\n",
    "tear_mask = (z == 0)\n",
    "indJ = np.where(tear_mask)\n",
    "print(f\"Tearing represents {100 * len(indJ[0]) / (K * L)} % of the image\")\n",
    "\n",
    "# indices of complementary area    \n",
    "indI = np.where(~tear_mask)\n",
    "print(f\"Complementary represents {100 * len(indI[0]) / (K * L)} % of the image\")"
   ]
  },
  {
   "cell_type": "code",
   "execution_count": null,
   "metadata": {},
   "outputs": [],
   "source": [
    "def gradient_algorithm(z, nitm, gamma):\n",
    "    K, L = z.shape\n",
    "    xr = z.copy()\n",
    "    cost = []\n",
    "    for nit in range(nitm):\n",
    "        v, h = grad(xr)\n",
    "        xr = xr - gamma * div(v, h)\n",
    "        cost.append((np.linalg.norm(v, 'fro')**2 + np.linalg.norm(h, 'fro')**2) / 2)\n",
    "        print(f\"{nit+1} : cost={cost[-1]}\")\n",
    "    return xr, cost"
   ]
  },
  {
   "cell_type": "code",
   "execution_count": null,
   "metadata": {},
   "outputs": [],
   "source": [
    "# Question 4\n",
    "# gradient algorithm for minimizing g o L\n",
    "\n",
    "nitm = 15000 # maximum number of iterations\n",
    "beta = 8 # Lipshitz constant of the gradient\n",
    "gamma = 1.9 / beta # step-size of the algorithm\n",
    "xr, cost = gradient_algorithm(z, nitm, gamma)\n",
    "display_image(xr, \"Restored Image with Quadratic Cost\")"
   ]
  },
  {
   "cell_type": "code",
   "execution_count": null,
   "metadata": {},
   "outputs": [],
   "source": [
    "def projball2(xr, z, rho, indI):\n",
    "    \"\"\"\n",
    "    Projection of xr onto the L2 ball || x(indI) - z(indI) || <= rho.\n",
    "\n",
    "    Parameters:\n",
    "    xr : ndarray (vector to be projected)\n",
    "    z : ndarray (center of the ball)\n",
    "    rho : float (radius of the ball)\n",
    "    indI : ndarray (indices of constrained components)\n",
    "\n",
    "    Returns:\n",
    "    p : ndarray (projected vector)\n",
    "    \"\"\"\n",
    "    p = xr.copy()\n",
    "    no = np.linalg.norm(xr[indI] - z[indI])\n",
    "\n",
    "    if no > rho:\n",
    "        p[indI] = z[indI] + rho * (xr[indI] - z[indI]) / no\n",
    "\n",
    "    return p"
   ]
  },
  {
   "cell_type": "code",
   "execution_count": null,
   "metadata": {},
   "outputs": [],
   "source": [
    "def projected_gradient_algorithm(z, nitm, rho, gamma, indI, prec=1e-7):\n",
    "    xr = z.copy()\n",
    "    cost = []\n",
    "    \n",
    "    for nit in range(nitm):\n",
    "        v, h = grad(xr)\n",
    "        xr = xr - gamma * div(v, h)\n",
    "        xr = projball2(xr, z, rho, indI)\n",
    "\n",
    "        cost.append((np.linalg.norm(v, 'fro')**2 + np.linalg.norm(h, 'fro')**2) / 2)\n",
    "        print(f\"{nit+1} : cost={cost[-1]}\")\n",
    "\n",
    "        if nit > 0 and abs((cost[-2] - cost[-1]) / cost[-1]) < prec:\n",
    "            break\n",
    "\n",
    "    return xr, cost"
   ]
  },
  {
   "cell_type": "code",
   "execution_count": null,
   "metadata": {},
   "outputs": [],
   "source": [
    "# Questions 6-8\n",
    "# projected gradient algorithm for minimizing g o L subject to constraint\n",
    "nitm = 15000 # maximum number of iterations\n",
    "rho = 0.2 * np.sqrt(K * L)\n",
    "precc = 1e-7; # precision for stopping criterion\n",
    "xr, cost = projected_gradient_algorithm(z, nitm, rho, gamma, indI, precc)\n",
    "display_image(xr, \"Restored Image with Constraint\")\n",
    "plt.plot(cost)\n",
    "plt.title(\"Convergence Plot\")\n",
    "plt.savefig(\"outputs/ConvergencePlot.png\")\n",
    "plt.show()"
   ]
  }
 ],
 "metadata": {
  "kernelspec": {
   "display_name": "test",
   "language": "python",
   "name": "python3"
  },
  "language_info": {
   "codemirror_mode": {
    "name": "ipython",
    "version": 3
   },
   "file_extension": ".py",
   "mimetype": "text/x-python",
   "name": "python",
   "nbconvert_exporter": "python",
   "pygments_lexer": "ipython3",
   "version": "3.10.12"
  }
 },
 "nbformat": 4,
 "nbformat_minor": 2
}
