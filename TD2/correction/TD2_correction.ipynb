{
 "cells": [
  {
   "cell_type": "markdown",
   "metadata": {},
   "source": [
    "# OPTIMIZATION TD2 - Notebook"
   ]
  },
  {
   "cell_type": "markdown",
   "metadata": {},
   "source": [
    "## Constraints\n",
    "\n",
    "$$\n",
    "\\begin{cases} \n",
    "  -x1 \\leq 0 \\\\\n",
    "  -x2 \\leq 0 \\\\\n",
    "  3x1-4x2 \\leq 1 \\\\\n",
    "  x2 \\leq 1\n",
    "\\end{cases}\n",
    "$$"
   ]
  },
  {
   "cell_type": "code",
   "execution_count": null,
   "metadata": {},
   "outputs": [],
   "source": [
    "# Trick for relative imports\n",
    "import os\n",
    "import sys\n",
    "nb_dir = os.path.split(os.getcwd())[0]\n",
    "if nb_dir not in sys.path:\n",
    "    sys.path.append(nb_dir)"
   ]
  },
  {
   "cell_type": "code",
   "execution_count": null,
   "metadata": {},
   "outputs": [],
   "source": [
    "import numpy as np\n",
    "import matplotlib.pyplot as plt\n",
    "from shapely.geometry import Polygon\n",
    "from simplexe import simplexe"
   ]
  },
  {
   "cell_type": "markdown",
   "metadata": {},
   "source": [
    "Describe the ball situated at the position xc and radius and write the objective of the design in terms of an optimization of the radius of such a ball.\n",
    "\n",
    "$$\n",
    "\\{ x \\mid |x - x_c| \\leq \\rho \\} = B(x_c, \\rho)\n",
    "$$\n",
    "\n",
    "Maximize $\\rho$\n",
    "\n",
    "$$\n",
    "B(x_c, \\rho) \\in P\n",
    "$$\n",
    "\n",
    "$$\n",
    "x_c \\in D \\Rightarrow x_c^{(1)} = x_c^{(2)} \\Rightarrow \\begin{bmatrix} \n",
    "1 \\\\ \n",
    "-1 \n",
    "\\end{bmatrix}\n",
    "x = 0\n",
    "$$"
   ]
  },
  {
   "cell_type": "markdown",
   "metadata": {},
   "source": [
    "Initialization of data"
   ]
  },
  {
   "cell_type": "code",
   "execution_count": null,
   "metadata": {},
   "outputs": [],
   "source": [
    "PV = np.array([[0, 0], [0, 1], [1.66, 1], [0.33, 0]])  # Pv are the vertices of the polyhedron P\n",
    "A = np.array([[0., -1.], [-1., 0.], [3., -4.], [0., 1.]])\n",
    "b = np.array([0., 0., 1., 1.])\n",
    "\n",
    "pgn = Polygon(PV)\n",
    "\n",
    "x, y = pgn.exterior.xy\n",
    "plt.fill(x, y, color='lightblue', alpha=0.5)\n",
    "plt.plot(x, y, color='black')\n",
    "plt.show()\n"
   ]
  },
  {
   "cell_type": "markdown",
   "metadata": {},
   "source": [
    "Normalizing the half-space representation"
   ]
  },
  {
   "cell_type": "code",
   "execution_count": null,
   "metadata": {},
   "outputs": [],
   "source": [
    "# Normalize the half-space representation so that each constraint has a norm = 1\n",
    "A_norm = A.copy()\n",
    "b_norm = b.copy()\n",
    "\n",
    "for i in range(A.shape[0]):\n",
    "    norm_A = np.linalg.norm(A[i, :])\n",
    "    if norm_A != 0:\n",
    "        b_norm[i] = b_norm[i] / norm_A\n",
    "        A_norm[i, :] = A[i, :] / norm_A\n",
    "    else:\n",
    "        # If the norm is zero, leave the row unchanged\n",
    "        print(f\"Row {i} has zero norm, skipping normalization.\")\n",
    "\n",
    "print(\"A:\", A_norm, \"B:\", b_norm)"
   ]
  },
  {
   "cell_type": "markdown",
   "metadata": {},
   "source": [
    "LP Formulation for Chebyshev Ball Construction"
   ]
  },
  {
   "cell_type": "code",
   "execution_count": null,
   "metadata": {},
   "outputs": [],
   "source": [
    "# Create the matrices for the LP formulation of the Chebyshev ball construction\n",
    "# Maximize c * x subject to A_bar * x = b_bar\n",
    "\n",
    "# Objective function c (to maximize the radius of the Chebyshev ball)\n",
    "c = np.array([0., 0., -1.])\n",
    "\n",
    "# Matrix A_bar and vector b_bar \n",
    "A_bar = np.hstack([A_norm, np.ones((A_norm.shape[0], 1))])\n",
    "A_bottom = np.array([[-1, 1, 0], [1, -1, 0]])\n",
    "A_bar = np.vstack([A_bar, A_bottom])\n",
    "b_bar = np.hstack([b_norm, np.array([0,0])])\n",
    "\n",
    "# Standard form\n",
    "c = np.hstack([c, np.zeros((6))])\n",
    "A_bar = np.hstack([A_bar, np.eye(6)])\n",
    "\n",
    "# Display the results\n",
    "print(\"A_bar:\\n\", A_bar)\n",
    "print(\"b_bar:\\n\", b_bar)\n",
    "print(\"Objective vector c:\\n\", c)"
   ]
  },
  {
   "cell_type": "markdown",
   "metadata": {},
   "source": [
    "Using the Simplexe Method (Implementation of Simplexe Needed)"
   ]
  },
  {
   "cell_type": "code",
   "execution_count": null,
   "metadata": {},
   "outputs": [],
   "source": [
    "# Simplexe function call and extracting the results\n",
    "# _, _, _, X, _ = simplexe(A_bar, b_bar, c)\n",
    "simplexe(A_bar, b_bar, c)\n",
    "\n",
    "# Extract the center (xc) and radius (r) of the Chebyshev ball\n",
    "# xc = X[:2]\n",
    "# r = X[2]"
   ]
  },
  {
   "cell_type": "markdown",
   "metadata": {},
   "source": [
    "Plotting the Results"
   ]
  },
  {
   "cell_type": "code",
   "execution_count": null,
   "metadata": {},
   "outputs": [],
   "source": [
    "# Plot the result\n",
    "plt.plot(xc[0], xc[1], '*')  # Center of the Chebyshev radius\n",
    "plt.plot(*pgn.exterior.xy)  # Plot the polyhedron\n",
    "\n",
    "# Plot the points for each constraint\n",
    "for i in range(A.shape[0]):\n",
    "    plt.plot(xc[0] + r * A[i, 0], xc[1] + r * A[i, 1], '*')\n",
    "\n",
    "# Ellipse plot (you need to implement `ellipplot` or use an alternative)\n",
    "# ellipplot(np.eye(2), r**2, 'b', xc) \n",
    "\n",
    "# Plotting additional reference lines\n",
    "plt.plot(np.linspace(-1, 6, 100), np.linspace(-1, 6, 100), 'k--')\n",
    "plt.plot(*pgn.exterior.xy)  # Plot the polyhedron again\n",
    "plt.show()"
   ]
  }
 ],
 "metadata": {
  "kernelspec": {
   "display_name": "optimization",
   "language": "python",
   "name": "python3"
  },
  "language_info": {
   "codemirror_mode": {
    "name": "ipython",
    "version": 3
   },
   "file_extension": ".py",
   "mimetype": "text/x-python",
   "name": "python",
   "nbconvert_exporter": "python",
   "pygments_lexer": "ipython3",
   "version": "3.10.12"
  }
 },
 "nbformat": 4,
 "nbformat_minor": 2
}
