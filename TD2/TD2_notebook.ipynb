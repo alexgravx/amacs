{
 "cells": [
  {
   "cell_type": "markdown",
   "metadata": {},
   "source": [
    "# OPTIMIZATION TD2 - Notebook"
   ]
  },
  {
   "cell_type": "markdown",
   "metadata": {},
   "source": [
    "## 2nd part\n",
    "\n",
    "$$\n",
    "\\begin{cases} \n",
    "  -x1 \\leq 0 \\\\\n",
    "  -x2 \\leq 0 \\\\\n",
    "  3x1-4x2 \\leq 1 \\\\\n",
    "  x2 \\leq 1\n",
    "\\end{cases}\n",
    "$$"
   ]
  },
  {
   "cell_type": "code",
   "execution_count": 18,
   "metadata": {},
   "outputs": [],
   "source": [
    "import numpy as np\n",
    "import matplotlib.pyplot as plt\n",
    "from shapely.geometry import Polygon\n",
    "from simplexe import simplexe"
   ]
  },
  {
   "cell_type": "markdown",
   "metadata": {},
   "source": [
    "Describe the ball situated at the position xc and radius and write the objective of the design in terms of an optimization of the radius of such a ball.\n",
    "\n",
    "$$\n",
    "\\{ x \\mid |x - x_c| \\leq \\rho \\} = B(x_c, \\rho)\n",
    "$$\n",
    "\n",
    "Maximize $\\rho$\n",
    "\n",
    "$$\n",
    "B(x_c, \\rho) \\in P\n",
    "$$\n",
    "\n",
    "$$\n",
    "x_c \\in D \\Rightarrow x_c^{(1)} = x_c^{(2)} \\Rightarrow \\begin{bmatrix} \n",
    "1 \\\\ \n",
    "-1 \n",
    "\\end{bmatrix}\n",
    "x = 0\n",
    "$$\n",
    "\n",
    "TO COMPLETE (give alexandre correction to gpt)"
   ]
  },
  {
   "cell_type": "markdown",
   "metadata": {},
   "source": [
    "Initialization of data"
   ]
  },
  {
   "cell_type": "code",
   "execution_count": null,
   "metadata": {},
   "outputs": [
    {
     "data": {
      "image/png": "[encoded data removed]",
      "text/plain": [
       "<Figure size 640x480 with 1 Axes>"
      ]
     },
     "metadata": {},
     "output_type": "display_data"
    }
   ],
   "source": [
    "PV = np.array([[0, 0], [0, 1], [1.66, 1], [0.33, 0]])  # Pv are the vertices of the polyhedron P\n",
    "A = np.array([[0, -1], [-1, 0], [3, -4], [0, 1]])\n",
    "b = np.array([0, 0, 1, 1])\n",
    "\n",
    "pgn = Polygon(PV)\n",
    "\n",
    "x, y = pgn.exterior.xy\n",
    "plt.fill(x, y, color='lightblue', alpha=0.5)\n",
    "plt.plot(x, y, color='black')\n",
    "plt.show()\n"
   ]
  },
  {
   "cell_type": "markdown",
   "metadata": {},
   "source": [
    "Normalizing the half-space representation"
   ]
  },
  {
   "cell_type": "code",
   "execution_count": 16,
   "metadata": {},
   "outputs": [
    {
     "name": "stdout",
     "output_type": "stream",
     "text": [
      "Row 2 has zero norm, skipping normalization.\n"
     ]
    }
   ],
   "source": [
    "# Normalize the half-space representation so that each constraint has a norm = 1\n",
    "A_norm = A.copy()  # To avoid modifying the original A matrix\n",
    "b_norm = b.copy()  # To avoid modifying the original b vector\n",
    "\n",
    "for i in range(A.shape[0]):\n",
    "    norm_A = np.linalg.norm(A[i, :])  # Calculate the norm of the row\n",
    "    if norm_A != 0:  # Check to avoid division by zero\n",
    "        b_norm[i] = b_norm[i] / norm_A  # Normalize b[i]\n",
    "        A_norm[i, :] = A[i, :] / norm_A  # Normalize the row A[i, :]\n",
    "    else:\n",
    "        # If the norm is zero, handle the case (e.g., leave the row unchanged)\n",
    "        print(f\"Row {i} has zero norm, skipping normalization.\")"
   ]
  },
  {
   "cell_type": "markdown",
   "metadata": {},
   "source": [
    "LP Formulation for Chebyshev Ball Construction"
   ]
  },
  {
   "cell_type": "code",
   "execution_count": null,
   "metadata": {},
   "outputs": [
    {
     "name": "stdout",
     "output_type": "stream",
     "text": [
      "A_bar: [[ 0. -1.  1.]\n",
      " [-1.  0.  1.]\n",
      " [ 0.  0.  1.]\n",
      " [ 0.  1.  1.]]\n",
      "b_bar: [0 0 0 1]\n",
      "Objective vector c: [0. 0. 1.]\n"
     ]
    }
   ],
   "source": [
    "# Create the matrices for the LP formulation of the Chebyshev ball construction\n",
    "# Maximize c * x subject to A_bar * x = b_bar\n",
    "\n",
    "# Objective function c (to maximize the radius of the Chebyshev ball)\n",
    "c = np.zeros(A_norm.shape[1] + 1)  # c has one more element for the radius\n",
    "c[-1] = 1  # The objective is to maximize the radius, hence the last element in c is 1\n",
    "\n",
    "# Matrix A_bar and vector b_bar for the LP formulation\n",
    "A_bar = np.hstack([A_norm, np.ones((A_norm.shape[0], 1))])  # Add an extra column for the radius term\n",
    "b_bar = b_norm  # b_bar is just the normalized b vector\n",
    "\n",
    "# Display the results\n",
    "print(\"A_bar:\", A_bar)\n",
    "print(\"b_bar:\", b_bar)\n",
    "print(\"Objective vector c:\", c)"
   ]
  },
  {
   "cell_type": "markdown",
   "metadata": {},
   "source": [
    "Using the Simplexe Method (Implementation of Simplexe Needed)"
   ]
  },
  {
   "cell_type": "code",
   "execution_count": 19,
   "metadata": {},
   "outputs": [
    {
     "name": "stdout",
     "output_type": "stream",
     "text": [
      "The dimensions of b do not match the dimensions of A.\n"
     ]
    },
    {
     "ename": "TypeError",
     "evalue": "cannot unpack non-iterable NoneType object",
     "output_type": "error",
     "traceback": [
      "\u001b[1;31m---------------------------------------------------------------------------\u001b[0m",
      "\u001b[1;31mTypeError\u001b[0m                                 Traceback (most recent call last)",
      "\u001b[1;32m~\\AppData\\Local\\Temp\\ipykernel_18684\\852299993.py\u001b[0m in \u001b[0;36m<cell line: 6>\u001b[1;34m()\u001b[0m\n\u001b[0;32m      4\u001b[0m \u001b[1;31m# Using the procedure simplexe.m\u001b[0m\u001b[1;33m\u001b[0m\u001b[1;33m\u001b[0m\u001b[1;33m\u001b[0m\u001b[0m\n\u001b[0;32m      5\u001b[0m \u001b[1;31m# Simplexe function call and extracting the results\u001b[0m\u001b[1;33m\u001b[0m\u001b[1;33m\u001b[0m\u001b[1;33m\u001b[0m\u001b[0m\n\u001b[1;32m----> 6\u001b[1;33m \u001b[0m_\u001b[0m\u001b[1;33m,\u001b[0m \u001b[0m_\u001b[0m\u001b[1;33m,\u001b[0m \u001b[0m_\u001b[0m\u001b[1;33m,\u001b[0m \u001b[0mX\u001b[0m\u001b[1;33m,\u001b[0m \u001b[0m_\u001b[0m \u001b[1;33m=\u001b[0m \u001b[0msimplexe\u001b[0m\u001b[1;33m(\u001b[0m\u001b[0mA_bar\u001b[0m\u001b[1;33m,\u001b[0m \u001b[0mb_bar\u001b[0m\u001b[1;33m,\u001b[0m \u001b[0mc\u001b[0m\u001b[1;33m)\u001b[0m\u001b[1;33m\u001b[0m\u001b[1;33m\u001b[0m\u001b[0m\n\u001b[0m\u001b[0;32m      7\u001b[0m \u001b[1;33m\u001b[0m\u001b[0m\n\u001b[0;32m      8\u001b[0m \u001b[1;31m# Extract the center (xc) and radius (r) of the Chebyshev ball\u001b[0m\u001b[1;33m\u001b[0m\u001b[1;33m\u001b[0m\u001b[1;33m\u001b[0m\u001b[0m\n",
      "\u001b[1;31mTypeError\u001b[0m: cannot unpack non-iterable NoneType object"
     ]
    }
   ],
   "source": [
    "# Assuming the 'simplexe' function is available (you need to implement it separately or use an existing simplex method)\n",
    "# For now, we'll leave this as a placeholder.\n",
    "\n",
    "# Using the procedure simplexe.m\n",
    "# Simplexe function call and extracting the results\n",
    "_, _, _, X, _ = simplexe(A_bar, b_bar, c)\n",
    "\n",
    "# Extract the center (xc) and radius (r) of the Chebyshev ball\n",
    "xc = X[:2]\n",
    "r = X[2]"
   ]
  },
  {
   "cell_type": "markdown",
   "metadata": {},
   "source": [
    "Plotting the Results"
   ]
  },
  {
   "cell_type": "code",
   "execution_count": null,
   "metadata": {},
   "outputs": [],
   "source": [
    "# Plot the result\n",
    "plt.plot(xc[0], xc[1], '*')  # Center of the Chebyshev radius\n",
    "plt.plot(*pgn.exterior.xy)  # Plot the polyhedron\n",
    "\n",
    "# Plot the points for each constraint\n",
    "for i in range(A.shape[0]):\n",
    "    plt.plot(xc[0] + r * A[i, 0], xc[1] + r * A[i, 1], '*')\n",
    "\n",
    "# Ellipse plot (you need to implement `ellipplot` or use an alternative)\n",
    "# ellipplot(np.eye(2), r**2, 'b', xc) \n",
    "\n",
    "# Plotting additional reference lines\n",
    "plt.plot(np.linspace(-1, 6, 100), np.linspace(-1, 6, 100), 'k--')\n",
    "plt.plot(*pgn.exterior.xy)  # Plot the polyhedron again\n",
    "plt.show()"
   ]
  }
 ],
 "metadata": {
  "kernelspec": {
   "display_name": "base",
   "language": "python",
   "name": "python3"
  },
  "language_info": {
   "codemirror_mode": {
    "name": "ipython",
    "version": 3
   },
   "file_extension": ".py",
   "mimetype": "text/x-python",
   "name": "python",
   "nbconvert_exporter": "python",
   "pygments_lexer": "ipython3",
   "version": "3.8.16"
  }
 },
 "nbformat": 4,
 "nbformat_minor": 2
}
