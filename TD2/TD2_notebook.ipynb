{
 "cells": [
  {
   "cell_type": "markdown",
   "metadata": {},
   "source": [
    "# OPTIMIZATION TD2 - Notebook"
   ]
  },
  {
   "cell_type": "markdown",
   "metadata": {},
   "source": [
    "## Constraints\n",
    "\n",
    "$$\n",
    "\\begin{cases} \n",
    "  -x1 \\leq 0 \\\\\n",
    "  -x2 \\leq 0 \\\\\n",
    "  3x1-4x2 \\leq 1 \\\\\n",
    "  x2 \\leq 1\n",
    "\\end{cases}\n",
    "$$"
   ]
  },
  {
   "cell_type": "code",
   "execution_count": 1,
   "metadata": {},
   "outputs": [],
   "source": [
    "import numpy as np\n",
    "import matplotlib.pyplot as plt\n",
    "from shapely.geometry import Polygon\n",
    "from simplexe import simplexe"
   ]
  },
  {
   "cell_type": "markdown",
   "metadata": {},
   "source": [
    "Describe the ball situated at the position xc and radius and write the objective of the design in terms of an optimization of the radius of such a ball.\n",
    "\n",
    "$$\n",
    "\\{ x \\mid |x - x_c| \\leq \\rho \\} = B(x_c, \\rho)\n",
    "$$\n",
    "\n",
    "Maximize $\\rho$\n",
    "\n",
    "$$\n",
    "B(x_c, \\rho) \\in P\n",
    "$$\n",
    "\n",
    "$$\n",
    "x_c \\in D \\Rightarrow x_c^{(1)} = x_c^{(2)} \\Rightarrow \\begin{bmatrix} \n",
    "1 \\\\ \n",
    "-1 \n",
    "\\end{bmatrix}\n",
    "x = 0\n",
    "$$"
   ]
  },
  {
   "cell_type": "markdown",
   "metadata": {},
   "source": [
    "Initialization of data"
   ]
  },
  {
   "cell_type": "code",
   "execution_count": 2,
   "metadata": {},
   "outputs": [
    {
     "data": {
      "image/png": "[encoded data removed]",
      "text/plain": [
       "<Figure size 640x480 with 1 Axes>"
      ]
     },
     "metadata": {},
     "output_type": "display_data"
    }
   ],
   "source": [
    "PV = np.array([[0, 0], [0, 1], [1.66, 1], [0.33, 0]])  # Pv are the vertices of the polyhedron P\n",
    "A = np.array([[0., -1.], [-1., 0.], [3., -4.], [0., 1.]])\n",
    "b = np.array([0., 0., 1., 1.])\n",
    "\n",
    "pgn = Polygon(PV)\n",
    "\n",
    "x, y = pgn.exterior.xy\n",
    "plt.fill(x, y, color='lightblue', alpha=0.5)\n",
    "plt.plot(x, y, color='black')\n",
    "plt.show()\n"
   ]
  },
  {
   "cell_type": "markdown",
   "metadata": {},
   "source": [
    "Normalizing the half-space representation"
   ]
  },
  {
   "cell_type": "code",
   "execution_count": 3,
   "metadata": {},
   "outputs": [
    {
     "name": "stdout",
     "output_type": "stream",
     "text": [
      "A: [[ 0.  -1. ]\n",
      " [-1.   0. ]\n",
      " [ 0.6 -0.8]\n",
      " [ 0.   1. ]] B: [0.  0.  0.2 1. ]\n"
     ]
    }
   ],
   "source": [
    "# Normalize the half-space representation so that each constraint has a norm = 1\n",
    "A_norm = A.copy()\n",
    "b_norm = b.copy()\n",
    "\n",
    "for i in range(A.shape[0]):\n",
    "    norm_A = np.linalg.norm(A[i, :])\n",
    "    if norm_A != 0:\n",
    "        b_norm[i] = b_norm[i] / norm_A\n",
    "        A_norm[i, :] = A[i, :] / norm_A\n",
    "    else:\n",
    "        # If the norm is zero, leave the row unchanged\n",
    "        print(f\"Row {i} has zero norm, skipping normalization.\")\n",
    "\n",
    "print(\"A:\", A_norm, \"B:\", b_norm)"
   ]
  },
  {
   "cell_type": "markdown",
   "metadata": {},
   "source": [
    "LP Formulation for Chebyshev Ball Construction"
   ]
  },
  {
   "cell_type": "code",
   "execution_count": 4,
   "metadata": {},
   "outputs": [
    {
     "name": "stdout",
     "output_type": "stream",
     "text": [
      "A_bar:\n",
      " [[ 0.  -1.   1.   1.   0.   0.   0.   0.   0. ]\n",
      " [-1.   0.   1.   0.   1.   0.   0.   0.   0. ]\n",
      " [ 0.6 -0.8  1.   0.   0.   1.   0.   0.   0. ]\n",
      " [ 0.   1.   1.   0.   0.   0.   1.   0.   0. ]\n",
      " [-1.   1.   0.   0.   0.   0.   0.   1.   0. ]\n",
      " [ 1.  -1.   0.   0.   0.   0.   0.   0.   1. ]]\n",
      "b_bar:\n",
      " [0.  0.  0.2 1.  0.  0. ]\n",
      "Objective vector c:\n",
      " [ 0.  0. -1.  0.  0.  0.  0.  0.  0.]\n"
     ]
    }
   ],
   "source": [
    "# Create the matrices for the LP formulation of the Chebyshev ball construction\n",
    "# Maximize c * x subject to A_bar * x = b_bar\n",
    "\n",
    "# Objective function c (to maximize the radius of the Chebyshev ball)\n",
    "c = np.array([0., 0., -1.])\n",
    "\n",
    "# Matrix A_bar and vector b_bar \n",
    "A_bar = np.hstack([A_norm, np.ones((A_norm.shape[0], 1))])\n",
    "A_bottom = np.array([[-1, 1, 0], [1, -1, 0]])\n",
    "A_bar = np.vstack([A_bar, A_bottom])\n",
    "b_bar = np.hstack([b_norm, np.array([0,0])])\n",
    "\n",
    "# Standard form\n",
    "c = np.hstack([c, np.zeros((6))])\n",
    "A_bar = np.hstack([A_bar, np.eye(6)])\n",
    "\n",
    "# Display the results\n",
    "print(\"A_bar:\\n\", A_bar)\n",
    "print(\"b_bar:\\n\", b_bar)\n",
    "print(\"Objective vector c:\\n\", c)"
   ]
  },
  {
   "cell_type": "markdown",
   "metadata": {},
   "source": [
    "Using the Simplexe Method (Implementation of Simplexe Needed)"
   ]
  },
  {
   "cell_type": "code",
   "execution_count": 8,
   "metadata": {},
   "outputs": [
    {
     "ename": "KeyboardInterrupt",
     "evalue": "",
     "output_type": "error",
     "traceback": [
      "\u001b[0;31m---------------------------------------------------------------------------\u001b[0m",
      "\u001b[0;31mKeyboardInterrupt\u001b[0m                         Traceback (most recent call last)",
      "Cell \u001b[0;32mIn[8], line 3\u001b[0m\n\u001b[1;32m      1\u001b[0m \u001b[38;5;66;03m# Simplexe function call and extracting the results\u001b[39;00m\n\u001b[1;32m      2\u001b[0m \u001b[38;5;66;03m# _, _, _, X, _ = simplexe(A_bar, b_bar, c)\u001b[39;00m\n\u001b[0;32m----> 3\u001b[0m \u001b[43msimplexe\u001b[49m\u001b[43m(\u001b[49m\u001b[43mA_bar\u001b[49m\u001b[43m,\u001b[49m\u001b[43m \u001b[49m\u001b[43mb_bar\u001b[49m\u001b[43m,\u001b[49m\u001b[43m \u001b[49m\u001b[43mc\u001b[49m\u001b[43m)\u001b[49m\n\u001b[1;32m      5\u001b[0m \u001b[38;5;66;03m# Extract the center (xc) and radius (r) of the Chebyshev ball\u001b[39;00m\n\u001b[1;32m      6\u001b[0m \u001b[38;5;66;03m# xc = X[:2]\u001b[39;00m\n\u001b[1;32m      7\u001b[0m \u001b[38;5;66;03m# r = X[2]\u001b[39;00m\n",
      "File \u001b[0;32m~/Desktop/AMACS/TD2/simplexe.py:48\u001b[0m, in \u001b[0;36msimplexe\u001b[0;34m(A, b, c)\u001b[0m\n\u001b[1;32m     45\u001b[0m xbasic \u001b[38;5;241m=\u001b[39m np\u001b[38;5;241m.\u001b[39mzeros(n)\n\u001b[1;32m     47\u001b[0m \u001b[38;5;66;03m# Appel de la phase I\u001b[39;00m\n\u001b[0;32m---> 48\u001b[0m wmax, ibasic, PHIiter \u001b[38;5;241m=\u001b[39m \u001b[43mphasei\u001b[49m\u001b[43m(\u001b[49m\u001b[43mA\u001b[49m\u001b[43m,\u001b[49m\u001b[43m \u001b[49m\u001b[43mb\u001b[49m\u001b[43m)\u001b[49m\n\u001b[1;32m     50\u001b[0m \u001b[38;5;28;01mif\u001b[39;00m wmax \u001b[38;5;241m<\u001b[39m \u001b[38;5;241m-\u001b[39mtol:\n\u001b[1;32m     51\u001b[0m     t \u001b[38;5;241m=\u001b[39m time\u001b[38;5;241m.\u001b[39mtime()\n",
      "File \u001b[0;32m~/Desktop/AMACS/TD2/phasei.py:78\u001b[0m, in \u001b[0;36mphasei\u001b[0;34m(A, b, tol, ztol)\u001b[0m\n\u001b[1;32m     76\u001b[0m         xbasic \u001b[38;5;241m=\u001b[39m X[ibasic]\n\u001b[1;32m     77\u001b[0m         Cred \u001b[38;5;241m=\u001b[39m c[inon] \u001b[38;5;241m-\u001b[39m (c[ibasic] \u001b[38;5;241m/\u001b[39m B) \u001b[38;5;241m@\u001b[39m A[:, inon]\n\u001b[0;32m---> 78\u001b[0m     \u001b[38;5;28;01melif\u001b[39;00m \u001b[43mnp\u001b[49m\u001b[38;5;241;43m.\u001b[39;49m\u001b[43mall\u001b[49m\u001b[43m(\u001b[49m\u001b[43mCred\u001b[49m\u001b[43m \u001b[49m\u001b[38;5;241;43m<\u001b[39;49m\u001b[38;5;241;43m=\u001b[39;49m\u001b[43m \u001b[49m\u001b[43mztol\u001b[49m\u001b[43m)\u001b[49m:\n\u001b[1;32m     79\u001b[0m         loop \u001b[38;5;241m=\u001b[39m \u001b[38;5;28;01mFalse\u001b[39;00m\n\u001b[1;32m     81\u001b[0m wmax \u001b[38;5;241m=\u001b[39m \u001b[38;5;241m-\u001b[39mnp\u001b[38;5;241m.\u001b[39msum(X[n:])\n",
      "File \u001b[0;32m~/.pyenv/versions/3.10.12/envs/test/lib/python3.10/site-packages/numpy/_core/fromnumeric.py:2508\u001b[0m, in \u001b[0;36m_all_dispatcher\u001b[0;34m(a, axis, out, keepdims, where)\u001b[0m\n\u001b[1;32m   2402\u001b[0m \u001b[38;5;250m    \u001b[39m\u001b[38;5;124;03m\"\"\"\u001b[39;00m\n\u001b[1;32m   2403\u001b[0m \u001b[38;5;124;03m    Test whether any array element along a given axis evaluates to True.\u001b[39;00m\n\u001b[1;32m   2404\u001b[0m \n\u001b[0;32m   (...)\u001b[0m\n\u001b[1;32m   2502\u001b[0m \n\u001b[1;32m   2503\u001b[0m \u001b[38;5;124;03m    \"\"\"\u001b[39;00m\n\u001b[1;32m   2504\u001b[0m     \u001b[38;5;28;01mreturn\u001b[39;00m _wrapreduction_any_all(a, np\u001b[38;5;241m.\u001b[39mlogical_or, \u001b[38;5;124m'\u001b[39m\u001b[38;5;124many\u001b[39m\u001b[38;5;124m'\u001b[39m, axis, out,\n\u001b[1;32m   2505\u001b[0m                                   keepdims\u001b[38;5;241m=\u001b[39mkeepdims, where\u001b[38;5;241m=\u001b[39mwhere)\n\u001b[0;32m-> 2508\u001b[0m \u001b[38;5;28;01mdef\u001b[39;00m\u001b[38;5;250m \u001b[39m\u001b[38;5;21m_all_dispatcher\u001b[39m(a, axis\u001b[38;5;241m=\u001b[39m\u001b[38;5;28;01mNone\u001b[39;00m, out\u001b[38;5;241m=\u001b[39m\u001b[38;5;28;01mNone\u001b[39;00m, keepdims\u001b[38;5;241m=\u001b[39m\u001b[38;5;28;01mNone\u001b[39;00m, \u001b[38;5;241m*\u001b[39m,\n\u001b[1;32m   2509\u001b[0m                     where\u001b[38;5;241m=\u001b[39m\u001b[38;5;28;01mNone\u001b[39;00m):\n\u001b[1;32m   2510\u001b[0m     \u001b[38;5;28;01mreturn\u001b[39;00m (a, where, out)\n\u001b[1;32m   2513\u001b[0m \u001b[38;5;129m@array_function_dispatch\u001b[39m(_all_dispatcher)\n\u001b[1;32m   2514\u001b[0m \u001b[38;5;28;01mdef\u001b[39;00m\u001b[38;5;250m \u001b[39m\u001b[38;5;21mall\u001b[39m(a, axis\u001b[38;5;241m=\u001b[39m\u001b[38;5;28;01mNone\u001b[39;00m, out\u001b[38;5;241m=\u001b[39m\u001b[38;5;28;01mNone\u001b[39;00m, keepdims\u001b[38;5;241m=\u001b[39mnp\u001b[38;5;241m.\u001b[39m_NoValue, \u001b[38;5;241m*\u001b[39m, where\u001b[38;5;241m=\u001b[39mnp\u001b[38;5;241m.\u001b[39m_NoValue):\n",
      "\u001b[0;31mKeyboardInterrupt\u001b[0m: "
     ]
    }
   ],
   "source": [
    "# Simplexe function call and extracting the results\n",
    "# _, _, _, X, _ = simplexe(A_bar, b_bar, c)\n",
    "simplexe(A_bar, b_bar, c)\n",
    "\n",
    "# Extract the center (xc) and radius (r) of the Chebyshev ball\n",
    "# xc = X[:2]\n",
    "# r = X[2]"
   ]
  },
  {
   "cell_type": "markdown",
   "metadata": {},
   "source": [
    "Plotting the Results"
   ]
  },
  {
   "cell_type": "code",
   "execution_count": null,
   "metadata": {},
   "outputs": [],
   "source": [
    "# Plot the result\n",
    "plt.plot(xc[0], xc[1], '*')  # Center of the Chebyshev radius\n",
    "plt.plot(*pgn.exterior.xy)  # Plot the polyhedron\n",
    "\n",
    "# Plot the points for each constraint\n",
    "for i in range(A.shape[0]):\n",
    "    plt.plot(xc[0] + r * A[i, 0], xc[1] + r * A[i, 1], '*')\n",
    "\n",
    "# Ellipse plot (you need to implement `ellipplot` or use an alternative)\n",
    "# ellipplot(np.eye(2), r**2, 'b', xc) \n",
    "\n",
    "# Plotting additional reference lines\n",
    "plt.plot(np.linspace(-1, 6, 100), np.linspace(-1, 6, 100), 'k--')\n",
    "plt.plot(*pgn.exterior.xy)  # Plot the polyhedron again\n",
    "plt.show()"
   ]
  }
 ],
 "metadata": {
  "kernelspec": {
   "display_name": "test",
   "language": "python",
   "name": "python3"
  },
  "language_info": {
   "codemirror_mode": {
    "name": "ipython",
    "version": 3
   },
   "file_extension": ".py",
   "mimetype": "text/x-python",
   "name": "python",
   "nbconvert_exporter": "python",
   "pygments_lexer": "ipython3",
   "version": "3.10.12"
  }
 },
 "nbformat": 4,
 "nbformat_minor": 2
}
