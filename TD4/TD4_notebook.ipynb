{
 "cells": [
  {
   "cell_type": "code",
   "execution_count": null,
   "metadata": {},
   "outputs": [],
   "source": [
    "# Import librairies\n",
    "\n",
    "import matplotlib.pyplot as plt\n",
    "import numpy as np\n",
    "from ppxa import PPXA"
   ]
  },
  {
   "cell_type": "code",
   "execution_count": null,
   "metadata": {},
   "outputs": [],
   "source": [
    "# Definition des paramètres du problème\n",
    "N = 100                 # Age maximal\n",
    "S = 130                 # Valeur initiale\n",
    "R = None                # Valeur finale\n",
    "gamma = 1.03            # Rendement annuel\n",
    "beta = 0.96             # Facteur bonheur\n",
    "t = list(range(N))      # Vecteur temps\n",
    "\n",
    "# Fonction f = vecteur beta^i\n",
    "f = np.array([beta ** i for i in t[:-1]])\n",
    "# Matrice L\n",
    "L = gamma * np.eye(N) - np.diag(np.ones(N - 1), k=1)\n",
    "L = L[:-1, :] # Remove last line\n",
    "\n",
    "# Display results\n",
    "print(f[:5], len(f))\n",
    "print(L, L.shape)"
   ]
  },
  {
   "cell_type": "code",
   "execution_count": null,
   "metadata": {},
   "outputs": [],
   "source": [
    "xopt = PPXA(f,L,S,R)"
   ]
  },
  {
   "cell_type": "code",
   "execution_count": null,
   "metadata": {},
   "outputs": [],
   "source": [
    "# Affichage du montant restant en fonction du temps\n",
    "plt.plot(t, xopt)\n",
    "plt.title('global amount')\n",
    "\n",
    "# On vérifie que le montant final est nul\n",
    "print(f\"Le montant final est {xopt[-1]}\")"
   ]
  },
  {
   "cell_type": "code",
   "execution_count": null,
   "metadata": {},
   "outputs": [],
   "source": [
    "# Affichage du montant restant en fonction du temps\n",
    "ropt = L @ xopt;\n",
    "plt.plot(t[:-1], ropt)\n",
    "plt.title('global expenses')"
   ]
  }
 ],
 "metadata": {
  "kernelspec": {
   "display_name": "test",
   "language": "python",
   "name": "python3"
  },
  "language_info": {
   "codemirror_mode": {
    "name": "ipython",
    "version": 3
   },
   "file_extension": ".py",
   "mimetype": "text/x-python",
   "name": "python",
   "nbconvert_exporter": "python",
   "pygments_lexer": "ipython3",
   "version": "3.10.12"
  }
 },
 "nbformat": 4,
 "nbformat_minor": 2
}
